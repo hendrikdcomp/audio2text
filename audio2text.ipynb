{
  "cells": [
    {
      "cell_type": "markdown",
      "metadata": {
        "id": "twB3w6bOeq9T"
      },
      "source": [
        "# Audio2Text\n",
        "\n",
        "Base de áudios da SSP: https://www.ssp.se.gov.br/Audios\n",
        "\n",
        "---"
      ]
    },
    {
      "cell_type": "markdown",
      "metadata": {
        "id": "NLEb1ygT_Auk"
      },
      "source": [
        "# Instalações das dependências"
      ]
    },
    {
      "cell_type": "code",
      "execution_count": 5,
      "metadata": {
        "colab": {
          "base_uri": "https://localhost:8080/"
        },
        "collapsed": true,
        "id": "tJalbHY2kDC0",
        "outputId": "ba8c53aa-9e15-4967-bb70-1897103061d3"
      },
      "outputs": [
        {
          "output_type": "stream",
          "name": "stdout",
          "text": [
            "  Installing build dependencies ... \u001b[?25l\u001b[?25hdone\n",
            "  Getting requirements to build wheel ... \u001b[?25l\u001b[?25hdone\n",
            "  Preparing metadata (pyproject.toml) ... \u001b[?25l\u001b[?25hdone\n"
          ]
        }
      ],
      "source": [
        "# Instalações das dependências\n",
        "!pip install git+https://github.com/openai/whisper.git -q\n",
        "!pip3 install torch torchvision torchaudio -q\n",
        "!pip install streamlit -q\n",
        "!pip install pyngrok -q\n",
        "\n",
        "# Gerar o arquivo requirements.txt com as bibliotecas instaladas\n",
        "!pip freeze > requirements.txt"
      ]
    },
    {
      "cell_type": "markdown",
      "metadata": {
        "id": "1blmmWHI_LT7"
      },
      "source": [
        "# Código da aplicação"
      ]
    },
    {
      "cell_type": "code",
      "execution_count": 9,
      "metadata": {
        "colab": {
          "base_uri": "https://localhost:8080/"
        },
        "id": "__gE3aAWhxOy",
        "outputId": "4446102a-f69a-4e18-bb69-b92c03a2fb66"
      },
      "outputs": [
        {
          "output_type": "stream",
          "name": "stdout",
          "text": [
            "Overwriting app.py\n"
          ]
        }
      ],
      "source": [
        "%%writefile app.py\n",
        "\n",
        "# -*- coding: utf-8 -*-\n",
        "import streamlit as st\n",
        "import whisper\n",
        "import os\n",
        "\n",
        "# Carregar modelo Whisper para transcrição\n",
        "def whisper_get_text(path: str) -> str:\n",
        "    model = whisper.load_model(\"large\")  # Pode ser \"small\", \"medium\", ou \"large\"\n",
        "    audio = whisper.load_audio(path)\n",
        "    result = model.transcribe(audio, language=\"pt\")\n",
        "    return str(result[\"text\"])\n",
        "\n",
        "# Função para salvar a transcrição em um arquivo .txt\n",
        "def save_transcription(text: str, audio_filename: str):\n",
        "    base_filename = os.path.splitext(audio_filename)[0]  # Remove a extensão do arquivo de áudio\n",
        "    txt_filename = f\"{base_filename}.txt\"\n",
        "    with open(txt_filename, \"w\", encoding=\"utf-8\") as txt_file:\n",
        "        txt_file.write(text)\n",
        "    return txt_filename\n",
        "\n",
        "# Função principal do aplicativo\n",
        "def main():\n",
        "    st.subheader(\"Transcrição de Áudio para Texto\")\n",
        "\n",
        "    # Verificação do estado de sessão para saber se a transcrição foi realizada\n",
        "    if \"transcription\" not in st.session_state:\n",
        "        st.session_state.transcription = None\n",
        "        st.session_state.transcription_filename = None\n",
        "\n",
        "    # Upload do arquivo de áudio\n",
        "    uploaded_file = st.file_uploader(\"Escolha um arquivo de áudio (.mp3)\", type=[\"mp3\"])\n",
        "\n",
        "    # Verificação se o arquivo foi carregado\n",
        "    if uploaded_file is not None:\n",
        "        # Salvando o áudio carregado\n",
        "        temp_audio_path = uploaded_file.name\n",
        "        with open(temp_audio_path, \"wb\") as f:\n",
        "            f.write(uploaded_file.getvalue())\n",
        "\n",
        "        st.write(\"Áudio carregado com sucesso.\")\n",
        "\n",
        "        # Adiciona a opção de escutar o áudio\n",
        "        st.audio(temp_audio_path, format=\"audio/mp3\")\n",
        "\n",
        "        # Checkbox para mostrar transcrição na página\n",
        "        show_transcription = st.checkbox(\"Exibir transcrição na página\")\n",
        "\n",
        "        # Adiciona botão para iniciar a transcrição manualmente\n",
        "        if st.button(\"Iniciar Transcrição\"):\n",
        "            # Transcrição do áudio\n",
        "            with st.spinner(\"Transcrevendo...\"):\n",
        "                text_extracted = whisper_get_text(temp_audio_path)\n",
        "            st.write(\"Texto transcrito com sucesso!\")\n",
        "\n",
        "            # Salvar a transcrição como arquivo .txt\n",
        "            txt_filename = save_transcription(text_extracted, uploaded_file.name)\n",
        "            st.session_state.transcription = text_extracted\n",
        "            st.session_state.transcription_filename = txt_filename\n",
        "            st.success(f\"Transcrição salva como {txt_filename}\")\n",
        "\n",
        "        # Mostrar transcrição na página, se checkbox estiver marcado\n",
        "        if show_transcription and st.session_state.transcription:\n",
        "            st.write(\"Transcrição do Áudio:\")\n",
        "            st.write(st.session_state.transcription)\n",
        "\n",
        "        # Botão para fazer download do arquivo .txt, se a transcrição existir\n",
        "        if st.session_state.transcription_filename:\n",
        "            with open(st.session_state.transcription_filename, \"r\", encoding=\"utf-8\") as txt_file:\n",
        "                st.download_button(f\"Baixar Transcrição: {st.session_state.transcription_filename}\", txt_file, file_name=st.session_state.transcription_filename)\n",
        "\n",
        "    else:\n",
        "        st.write(\"Por favor, carregue um arquivo de áudio.\")\n",
        "\n",
        "# Executar a função principal\n",
        "if __name__ == \"__main__\":\n",
        "    main()\n"
      ]
    },
    {
      "cell_type": "markdown",
      "metadata": {
        "id": "2iRyn4NG_Uy2"
      },
      "source": [
        "# Geração da senha para acesso ao aplicativo via Streamlit\n",
        "Você deve copiar o número gerado."
      ]
    },
    {
      "cell_type": "code",
      "execution_count": 10,
      "metadata": {
        "colab": {
          "base_uri": "https://localhost:8080/"
        },
        "id": "tFJgCN358KOe",
        "outputId": "3e68a207-a44f-4d24-bc12-62e518cb3e76"
      },
      "outputs": [
        {
          "output_type": "stream",
          "name": "stdout",
          "text": [
            "34.126.183.140\n"
          ]
        }
      ],
      "source": [
        "import urllib\n",
        "# Password/Enpoint IP for localtunnel\",\n",
        "print(urllib.request.urlopen('https://loca.lt/mytunnelpassword').read().decode('utf8').strip(\"\\n\"))"
      ]
    },
    {
      "cell_type": "markdown",
      "metadata": {
        "id": "mUNRAAfr_zEs"
      },
      "source": [
        "# Execução do aplicativo via Streamlit\n",
        "1. Clique no link que vai ser gerado\n",
        "2. Na página que abrir, cole a senha acima no campo indicado\n",
        "3. Pronto. Sua aplicação irá executar."
      ]
    },
    {
      "cell_type": "code",
      "execution_count": 11,
      "metadata": {
        "colab": {
          "base_uri": "https://localhost:8080/"
        },
        "id": "qREho8rvh_oF",
        "outputId": "b26fbad7-ee30-4eda-ba82-321e2d046c62"
      },
      "outputs": [
        {
          "output_type": "stream",
          "name": "stdout",
          "text": [
            "your url is: https://large-times-play.loca.lt\n",
            "^C\n"
          ]
        }
      ],
      "source": [
        "# Execute a célula de código abaixo para iniciar o aplicativo Streamlit em segundo plano\n",
        "# !streamlit run app.py &>/content/logs.txt & npx localtunnel --port 8501 & curl https://loca.lt/mytunnelpassword\n",
        "!streamlit run app.py &>/content/logs.txt & npx localtunnel --port 8501"
      ]
    }
  ],
  "metadata": {
    "accelerator": "GPU",
    "colab": {
      "gpuType": "A100",
      "provenance": [],
      "machine_shape": "hm"
    },
    "kernelspec": {
      "display_name": "Python 3",
      "name": "python3"
    },
    "language_info": {
      "name": "python"
    }
  },
  "nbformat": 4,
  "nbformat_minor": 0
}